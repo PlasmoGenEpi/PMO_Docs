{
 "cells": [
  {
   "cell_type": "markdown",
   "id": "bc7ba059-ff3e-4c1e-9a6e-b8a9b1be36de",
   "metadata": {},
   "source": [
    "# Creating a PMO File"
   ]
  },
  {
   "cell_type": "markdown",
   "id": "f95199bb-dc25-4cc1-bb44-8416d1d855dd",
   "metadata": {},
   "source": [
    "In this tutorial we will go through the steps to build a PMO, utilising the functions within the pmo-tools package. \n",
    "\n",
    "For more information on any of the fields mentioned please see the [documentation](https://plasmogenepi.github.io/PMO_Docs/format/FormatOverview.html)."
   ]
  },
  {
   "cell_type": "markdown",
   "id": "dd6ea140-f608-421a-bae2-243f06b6a79b",
   "metadata": {},
   "source": [
    "## Setup \n",
    "\n",
    "First we will import the functions that we will need to run this notebook."
   ]
  },
  {
   "cell_type": "code",
   "execution_count": 1,
   "id": "73420f3c-3f26-43ff-ba13-16a2d6fc2e25",
   "metadata": {},
   "outputs": [],
   "source": [
    "from pmotools.json_convertors.microhaplotype_table_to_pmo_dict import microhaplotype_table_to_pmo_dict\n",
    "from pmotools.json_convertors.metatable_to_json_meta import experiment_info_table_to_json, specimen_info_table_to_json\n",
    "from pmotools.json_convertors.panel_information_to_pmo_dict import panel_info_table_to_pmo_dict\n",
    "from pmotools.json_convertors.demultiplexed_targets_to_pmo_dict import demultiplexed_targets_to_pmo_dict"
   ]
  },
  {
   "cell_type": "code",
   "execution_count": 2,
   "id": "563be5a0-241b-47d7-888b-8e71f2089c59",
   "metadata": {},
   "outputs": [],
   "source": [
    "import pandas as pd\n",
    "import json "
   ]
  },
  {
   "cell_type": "markdown",
   "id": "6e921d51-3502-4294-a4d6-ed7df7812cb5",
   "metadata": {},
   "source": [
    "Here we define a function that will be used to print a few lines from the data we will be creating."
   ]
  },
  {
   "cell_type": "code",
   "execution_count": 3,
   "id": "6a3abe73-54a8-4032-b63f-1fb71f2cdeee",
   "metadata": {},
   "outputs": [],
   "source": [
    "def print_json_head(dict, n=10):\n",
    "    json_object = json.dumps(dict, indent=4)\n",
    "    for i, l in enumerate(json_object.split('\\n')):\n",
    "        if i >= n:\n",
    "            break\n",
    "        print(l)"
   ]
  },
  {
   "cell_type": "markdown",
   "id": "1b025b21-3080-4d33-8dae-e24440d18261",
   "metadata": {},
   "source": [
    "## Creating PMO\n",
    "\n",
    "To create the full PMO we will need a few sets of information. These include:\n",
    "\n",
    "* **Panel Information** : A table including data on the targets that make up the panel.\n",
    "* **Allele table** : A table containing the alleles called for each of the samples for each of the targets and the reads associated.\n",
    "* **Demultiplexed reads** : A table containing the raw reads for each sample, for each target after demultiplexing, before any filtering.\n",
    "* **Experimental metadata** : Information on the sequencing run, for example where each sample was located on the plate.\n",
    "* **Specimen Information** : metadata on the biological samples\n",
    "  \n",
    "We will specify the paths to the example data we will use below, but if you would like to try and use your own data then replace the following paths: "
   ]
  },
  {
   "cell_type": "code",
   "execution_count": 4,
   "id": "ff38e5db-369f-4ad2-940a-e8497e449dd4",
   "metadata": {},
   "outputs": [],
   "source": [
    "panel_information_path = 'example_data/mad4hatter_panel_info_example.tsv'\n",
    "allele_table_path = 'example_data/mad4hatter_allele_data_example.txt'\n",
    "demultiplexed_reads_path = 'example_data/mad4hatter_amplicon_coverage.txt'"
   ]
  },
  {
   "cell_type": "markdown",
   "id": "cf46363b-e803-4178-ba66-a8a1ddd70f91",
   "metadata": {
    "scrolled": true
   },
   "source": [
    "### Panel Information"
   ]
  },
  {
   "cell_type": "markdown",
   "id": "a7f63049-1ecb-4844-b22b-4356ed1ea366",
   "metadata": {},
   "source": [
    "First we will work on putting the **panel information** into PMO format. Although labs may store this information in a variety of ways and this process may seem cumbersome, you will only have to do this once for each panel that you work with.\n",
    "\n",
    "The panel information consists of 2 parts; The **panel_targets** (information on the targets) and the **target_genome** (information on the reference genome being targeted). "
   ]
  },
  {
   "cell_type": "markdown",
   "id": "a6ebe206-619c-46b2-b322-c13faa573790",
   "metadata": {},
   "source": [
    "To include details of the reference genome we need the following information.\n",
    "\n",
    "* **name** : name of the genome\n",
    "* **version** : the genome version\n",
    "* **taxon_id** : the NCBI taxonomy number\n",
    "* **url** : a link to the where this genome file could be downloaded\n",
    "\n",
    "Optionally, you can also include a link to genomes annotation file, as we have below. Below is an example of compiling this information into the json format manually:"
   ]
  },
  {
   "cell_type": "code",
   "execution_count": 5,
   "id": "26f6e55e-32b8-47a9-9133-98ed63880a2c",
   "metadata": {},
   "outputs": [],
   "source": [
    "target_genome_info = {\n",
    "\t\t\t\"gff_url\" : \"https://plasmodb.org/common/downloads/release-65/Pfalciparum3D7/gff/data/PlasmoDB-65_Pfalciparum3D7.gff\",\n",
    "\t\t\t\"name\" : \"3D7\",\n",
    "\t\t\t\"taxon_id\" : 5833,\n",
    "\t\t\t\"url\" : \"https://plasmodb.org/common/downloads/release-65/Pfalciparum3D7/fasta/data/PlasmoDB-65_Pfalciparum3D7_Genome.fasta\",\n",
    "\t\t\t\"version\" : \"2020-09-01\"\n",
    "\t\t}"
   ]
  },
  {
   "cell_type": "markdown",
   "id": "75fae9b7-0fcd-4a6e-83ea-73354d59079c",
   "metadata": {},
   "source": [
    "Fields that are required to define the **target information** are ...\n",
    "\n",
    "* **target_id** : a unique identifier for each of the targets \n",
    "* **forward primer seq** : The sequence for the forward primer associated with this target\n",
    "* **reverse primer sequence** : The sequence for the reverse primer associated with this target\n",
    "  \n",
    "**Note: in the case that you have multiple primers to target the same region, please include these on separate lines in the table with the same target_id.** \n",
    "\n",
    "Optionally you can also include location information for the primers. To include this information you will need to include in the table: \n",
    "\n",
    "* **chrom** : the chromosome name\n",
    "* **start** : the start of the location, 0-based positioning\n",
    "* **end** : the end of the location, 0-based positioning\n",
    "\n",
    "For more information on optional fields that can be included, check the [documentation](https://plasmogenepi.github.io/PMO_Docs/format/FormatOverview.html#targetinfo).\n",
    "\n",
    "Here we show how to take panel information that is used to run the MAD4HatTeR pipeline and convert it to PMO. "
   ]
  },
  {
   "cell_type": "code",
   "execution_count": 6,
   "id": "24877407-d3ad-4b4d-88ce-ddd6582699fa",
   "metadata": {},
   "outputs": [
    {
     "data": {
      "text/html": [
       "<div>\n",
       "<style scoped>\n",
       "    .dataframe tbody tr th:only-of-type {\n",
       "        vertical-align: middle;\n",
       "    }\n",
       "\n",
       "    .dataframe tbody tr th {\n",
       "        vertical-align: top;\n",
       "    }\n",
       "\n",
       "    .dataframe thead th {\n",
       "        text-align: right;\n",
       "    }\n",
       "</style>\n",
       "<table border=\"1\" class=\"dataframe\">\n",
       "  <thead>\n",
       "    <tr style=\"text-align: right;\">\n",
       "      <th></th>\n",
       "      <th>amplicon</th>\n",
       "      <th>amplicon_start</th>\n",
       "      <th>amplicon_end</th>\n",
       "      <th>ampInsert_start</th>\n",
       "      <th>ampInsert_end</th>\n",
       "      <th>rev_primer</th>\n",
       "      <th>amplicon_length</th>\n",
       "      <th>ampInsert_length</th>\n",
       "      <th>fwd_primer</th>\n",
       "      <th>target_type</th>\n",
       "      <th>strand</th>\n",
       "      <th>gene_id</th>\n",
       "    </tr>\n",
       "  </thead>\n",
       "  <tbody>\n",
       "    <tr>\n",
       "      <th>0</th>\n",
       "      <td>Pf3D7_01_v3-145388-145662-1A</td>\n",
       "      <td>145388</td>\n",
       "      <td>145662</td>\n",
       "      <td>145421</td>\n",
       "      <td>145630</td>\n",
       "      <td>AAAATGTCCAATATGTCAAGGTATATTAAAGT</td>\n",
       "      <td>274</td>\n",
       "      <td>209</td>\n",
       "      <td>CCTGAGTTTTAAGTGAATGAATATATTTTTGTT</td>\n",
       "      <td>diversity</td>\n",
       "      <td>+</td>\n",
       "      <td>PF3D7_0103300</td>\n",
       "    </tr>\n",
       "    <tr>\n",
       "      <th>1</th>\n",
       "      <td>Pf3D7_01_v3-162867-163115-1A</td>\n",
       "      <td>162867</td>\n",
       "      <td>163115</td>\n",
       "      <td>162889</td>\n",
       "      <td>163092</td>\n",
       "      <td>TGTGTGCTTTGTCGTTGATTCAT</td>\n",
       "      <td>248</td>\n",
       "      <td>203</td>\n",
       "      <td>TACTACCGATCATCAAGCCGAA</td>\n",
       "      <td>diversity</td>\n",
       "      <td>+</td>\n",
       "      <td>PF3D7_0103600</td>\n",
       "    </tr>\n",
       "    <tr>\n",
       "      <th>2</th>\n",
       "      <td>Pf3D7_01_v3-181512-181761-1A</td>\n",
       "      <td>181512</td>\n",
       "      <td>181761</td>\n",
       "      <td>181545</td>\n",
       "      <td>181729</td>\n",
       "      <td>TAGTTTAAATCTATACTTGTCTCACCTGAACA</td>\n",
       "      <td>249</td>\n",
       "      <td>184</td>\n",
       "      <td>CTTTTCATATTTGTCTATTAGCTTTTTCAAACC</td>\n",
       "      <td>diversity</td>\n",
       "      <td>+</td>\n",
       "      <td>PF3D7_0104100</td>\n",
       "    </tr>\n",
       "    <tr>\n",
       "      <th>3</th>\n",
       "      <td>Pf3D7_01_v3-455794-456054-1A</td>\n",
       "      <td>455794</td>\n",
       "      <td>456054</td>\n",
       "      <td>455827</td>\n",
       "      <td>456021</td>\n",
       "      <td>GTGTTTCATTATTTTAGACACATTCAGGAATTT</td>\n",
       "      <td>260</td>\n",
       "      <td>194</td>\n",
       "      <td>ACAATGTAGAACAATATATAAAACTGGAAAAGA</td>\n",
       "      <td>diversity</td>\n",
       "      <td>+</td>\n",
       "      <td>NaN</td>\n",
       "    </tr>\n",
       "    <tr>\n",
       "      <th>4</th>\n",
       "      <td>Pf3D7_01_v3-528859-529104-1A</td>\n",
       "      <td>528859</td>\n",
       "      <td>529104</td>\n",
       "      <td>528890</td>\n",
       "      <td>529073</td>\n",
       "      <td>AATCATTTTATCCCACTTATTTATCTCGTCT</td>\n",
       "      <td>245</td>\n",
       "      <td>183</td>\n",
       "      <td>CTTAGTTTAGATTTGCCTACAATATTTGCAC</td>\n",
       "      <td>diversity</td>\n",
       "      <td>+</td>\n",
       "      <td>PF3D7_0113800</td>\n",
       "    </tr>\n",
       "  </tbody>\n",
       "</table>\n",
       "</div>"
      ],
      "text/plain": [
       "                       amplicon  amplicon_start  amplicon_end  \\\n",
       "0  Pf3D7_01_v3-145388-145662-1A          145388        145662   \n",
       "1  Pf3D7_01_v3-162867-163115-1A          162867        163115   \n",
       "2  Pf3D7_01_v3-181512-181761-1A          181512        181761   \n",
       "3  Pf3D7_01_v3-455794-456054-1A          455794        456054   \n",
       "4  Pf3D7_01_v3-528859-529104-1A          528859        529104   \n",
       "\n",
       "   ampInsert_start  ampInsert_end                         rev_primer  \\\n",
       "0           145421         145630   AAAATGTCCAATATGTCAAGGTATATTAAAGT   \n",
       "1           162889         163092            TGTGTGCTTTGTCGTTGATTCAT   \n",
       "2           181545         181729   TAGTTTAAATCTATACTTGTCTCACCTGAACA   \n",
       "3           455827         456021  GTGTTTCATTATTTTAGACACATTCAGGAATTT   \n",
       "4           528890         529073    AATCATTTTATCCCACTTATTTATCTCGTCT   \n",
       "\n",
       "   amplicon_length  ampInsert_length                         fwd_primer  \\\n",
       "0              274               209  CCTGAGTTTTAAGTGAATGAATATATTTTTGTT   \n",
       "1              248               203             TACTACCGATCATCAAGCCGAA   \n",
       "2              249               184  CTTTTCATATTTGTCTATTAGCTTTTTCAAACC   \n",
       "3              260               194  ACAATGTAGAACAATATATAAAACTGGAAAAGA   \n",
       "4              245               183    CTTAGTTTAGATTTGCCTACAATATTTGCAC   \n",
       "\n",
       "  target_type strand        gene_id  \n",
       "0   diversity      +  PF3D7_0103300  \n",
       "1   diversity      +  PF3D7_0103600  \n",
       "2   diversity      +  PF3D7_0104100  \n",
       "3   diversity      +            NaN  \n",
       "4   diversity      +  PF3D7_0113800  "
      ]
     },
     "execution_count": 6,
     "metadata": {},
     "output_type": "execute_result"
    }
   ],
   "source": [
    "madhatter_panel_info = pd.read_csv(panel_information_path, sep='\\t')\n",
    "madhatter_panel_info.head()"
   ]
  },
  {
   "cell_type": "markdown",
   "id": "c0214138-c0b1-4248-aa7e-95e88ffc9d31",
   "metadata": {},
   "source": [
    "We can use the `panel_info_table_to_pmo_dict` function to convert this into the correct format for PMO."
   ]
  },
  {
   "cell_type": "code",
   "execution_count": 7,
   "id": "56ec7047-74b5-4087-a9b9-88253384a9c6",
   "metadata": {},
   "outputs": [
    {
     "name": "stdout",
     "output_type": "stream",
     "text": [
      "\n",
      "    Convert a dataframe containing panel information into dictionary of targets and reference information\n",
      "\n",
      "\n",
      "    :param target_table: The dataframe containing the target information\n",
      "    :param panel_id: the panel ID assigned to the panel\n",
      "    :param genome_info: A dictionary containing the genome information\n",
      "    :param target_id_col: the name of the column containing the target IDs\n",
      "    :param forward_primers_seq_col: the name of the column containing the sequence of the forward primer\n",
      "    :param reverse_primers_seq_col: the name of the column containing the sequence of the reverse primer\n",
      "    :param forward_primers_start_col (Optional): the name of the column containing the 0-based start coordinate of the forward primer\n",
      "    :param forward_primers_end_col (Optional): the name of the column containing the 0-based end coordinate of the forward primer\n",
      "    :param reverse_primers_start_col (Optional): the name of the column containing the 0-based start coordinate of the reverse primer\n",
      "    :param reverse_primers_end_col (Optional): the name of the column containing the 0-based end coordinate of the reverse primer\n",
      "    :param insert_start_col (Optional): the name of the column containing the 0-based start coordinate of the insert\n",
      "    :param insert_end_col (Optional): the name of the column containing the 0-based end coordinate of the insert\n",
      "    :param chrom_col (Optional): the name of the column containing the chromosome for the target\n",
      "    :param gene_id_col (Optional): the name of the column containing the gene id\n",
      "    :param strand_col (Optional): the name of the column containing the strand for the target\n",
      "    :param target_type_col (Optional): A classification type for the target\n",
      "    :param additional_target_info_cols (Optional): dictionary of optional additional columns to add to the target information dictionary. Keys are column names and values are the type.\n",
      "    :return: a dict of the panel information\n",
      "    \n"
     ]
    }
   ],
   "source": [
    "print(panel_info_table_to_pmo_dict.__doc__)"
   ]
  },
  {
   "cell_type": "markdown",
   "id": "b278b187-936a-4f51-b3fc-2c43459c6a6d",
   "metadata": {},
   "source": [
    "We will use this first just to include the most basic required information."
   ]
  },
  {
   "cell_type": "code",
   "execution_count": 8,
   "id": "39469bf5-5239-4fa0-9003-38e1bb678d84",
   "metadata": {
    "scrolled": true
   },
   "outputs": [],
   "source": [
    "panel_information_pmo = panel_info_table_to_pmo_dict(\n",
    "    madhatter_panel_info,\n",
    "    \"mad4hatter_poolsD1R1R2\",\n",
    "    target_genome_info,\n",
    "    target_id_col=\"amplicon\",\n",
    "    forward_primers_seq_col=\"fwd_primer\",\n",
    "    reverse_primers_seq_col=\"rev_primer\",\n",
    ")"
   ]
  },
  {
   "cell_type": "markdown",
   "id": "9c664033-61da-4325-b90a-e792ec94d87d",
   "metadata": {},
   "source": [
    "Let's take a look at the first 30 rows of the information we put together..."
   ]
  },
  {
   "cell_type": "code",
   "execution_count": 9,
   "id": "6a6559ef-e75a-48e0-bc67-cda4a20b4239",
   "metadata": {},
   "outputs": [
    {
     "name": "stdout",
     "output_type": "stream",
     "text": [
      "{\n",
      "    \"panel_info\": {\n",
      "        \"mad4hatter_poolsD1R1R2\": {\n",
      "            \"panel_id\": \"mad4hatter_poolsD1R1R2\",\n",
      "            \"target_genome\": {\n",
      "                \"gff_url\": \"https://plasmodb.org/common/downloads/release-65/Pfalciparum3D7/gff/data/PlasmoDB-65_Pfalciparum3D7.gff\",\n",
      "                \"name\": \"3D7\",\n",
      "                \"taxon_id\": 5833,\n",
      "                \"url\": \"https://plasmodb.org/common/downloads/release-65/Pfalciparum3D7/fasta/data/PlasmoDB-65_Pfalciparum3D7_Genome.fasta\",\n",
      "                \"version\": \"2020-09-01\"\n",
      "            },\n",
      "            \"targets\": {\n",
      "                \"Pf3D7_01_v3-145388-145662-1A\": {\n",
      "                    \"target_id\": \"Pf3D7_01_v3-145388-145662-1A\",\n",
      "                    \"forward_primers\": [\n",
      "                        {\n",
      "                            \"seq\": \"CCTGAGTTTTAAGTGAATGAATATATTTTTGTT\"\n",
      "                        }\n",
      "                    ],\n",
      "                    \"reverse_primers\": [\n",
      "                        {\n",
      "                            \"seq\": \"AAAATGTCCAATATGTCAAGGTATATTAAAGT\"\n",
      "                        }\n",
      "                    ]\n",
      "                },\n",
      "                \"Pf3D7_01_v3-162867-163115-1A\": {\n",
      "                    \"target_id\": \"Pf3D7_01_v3-162867-163115-1A\",\n",
      "                    \"forward_primers\": [\n",
      "                        {\n",
      "                            \"seq\": \"TACTACCGATCATCAAGCCGAA\"\n"
     ]
    }
   ],
   "source": [
    "print_json_head(panel_information_pmo,30)"
   ]
  },
  {
   "cell_type": "markdown",
   "id": "251ba298-904f-4fc0-a325-a5e3ed3424e5",
   "metadata": {},
   "source": [
    "Optionally we can include some more information. You can see that some of the fields in the table above don't directly match the optional fields. Therefore, we must first wrangle the data slightly to fit the requirements. \n",
    "\n",
    "**Note: You may not have to apply all of the following steps to your panel information, this is just an example and is specific to the MAD4HatTeR panel information**. \n",
    "\n",
    "The chromosome for each target is stored within the locus name, so we extract that and put it in it's own column below."
   ]
  },
  {
   "cell_type": "code",
   "execution_count": 10,
   "id": "b9e814e5-bd8c-4e99-b09e-5e7873055445",
   "metadata": {},
   "outputs": [],
   "source": [
    "madhatter_panel_info['chrom'] = [chr[0] for chr in madhatter_panel_info.amplicon.str.split('-')]"
   ]
  },
  {
   "cell_type": "markdown",
   "id": "1336439c-a5d4-48be-ad9a-ca7e7250de9f",
   "metadata": {},
   "source": [
    "Next we need to generate 0-based coordinates of the location the primers are targetting. The panel information we have only includes the full target start and end (including the primer) and is 1-based, so we do the conversion as follows."
   ]
  },
  {
   "cell_type": "code",
   "execution_count": 11,
   "id": "2474ca4e-a31e-4ed2-a7af-27a201ebfd2d",
   "metadata": {},
   "outputs": [],
   "source": [
    "# Create 0-based coordinate for start of forward primer\n",
    "madhatter_panel_info['fwd_primer_start_0_based'] = madhatter_panel_info.amplicon_start-1\n",
    "# Calculate the length of the forward primer, add this to the primer start coordinate to get the end coordinate \n",
    "madhatter_panel_info['fwd_primer_len'] = [len(p) for p in madhatter_panel_info.fwd_primer]\n",
    "madhatter_panel_info['fwd_primer_end_0_based'] = madhatter_panel_info.fwd_primer_start_0_based+madhatter_panel_info.fwd_primer_len\n",
    "\n",
    "# Calculate the length of the reverse primer. Subtract this from the end coordinate of the target to get the start coordinate of the reverse primer\n",
    "madhatter_panel_info['rev_primer_len'] = [len(p) for p in madhatter_panel_info.rev_primer]\n",
    "madhatter_panel_info['rev_primer_start_0_based'] = madhatter_panel_info.amplicon_end-madhatter_panel_info.rev_primer_len\n",
    "# The 0-based reverse primer end would be the same as the amplicon end \n",
    "madhatter_panel_info['rev_primer_end_0_based'] = madhatter_panel_info.amplicon_end"
   ]
  },
  {
   "cell_type": "markdown",
   "id": "581696e3-6455-404f-97d6-a6cdb44223ea",
   "metadata": {},
   "source": [
    "In the MAD4HatTeR pipeline, we trim one base from each end of the amplicon insert because the base following a primer is often erroneous. We can create insert coordinates with this adjustment, as shown below. If you choose not to apply this trimming step, you can instead use the coordinate at the end of the forward primer and the beginning of the reverse primer to define the start and end of the insert."
   ]
  },
  {
   "cell_type": "code",
   "execution_count": 12,
   "id": "e2892899-4ab8-4907-b269-3e0c3f30d2ae",
   "metadata": {},
   "outputs": [],
   "source": [
    "madhatter_panel_info['insert_start_0_based'] = madhatter_panel_info.fwd_primer_end_0_based+1\n",
    "madhatter_panel_info['insert_end_0_based'] = madhatter_panel_info.rev_primer_start_0_based-1"
   ]
  },
  {
   "cell_type": "markdown",
   "id": "59a1d02c-9019-4410-b526-8d712680bea9",
   "metadata": {},
   "source": [
    "Now we can create panel information to go into PMO with all of the optional fields we just created. "
   ]
  },
  {
   "cell_type": "code",
   "execution_count": 13,
   "id": "0af9db2f-35e0-4505-b3f1-c9b6074b85e3",
   "metadata": {
    "scrolled": true
   },
   "outputs": [],
   "source": [
    "panel_information_pmo = panel_info_table_to_pmo_dict(\n",
    "    madhatter_panel_info, \n",
    "    \"mad4hatter_poolsD1R1R2\", \n",
    "    target_genome_info, \n",
    "    target_id_col=\"amplicon\",\n",
    "    forward_primers_seq_col=\"fwd_primer\",\n",
    "    reverse_primers_seq_col=\"rev_primer\",\n",
    "    forward_primers_start_col=\"fwd_primer_start_0_based\",\n",
    "    forward_primers_end_col=\"fwd_primer_end_0_based\",\n",
    "    reverse_primers_start_col=\"rev_primer_start_0_based\",\n",
    "    reverse_primers_end_col=\"rev_primer_end_0_based\",\n",
    "    insert_start_col=\"insert_start_0_based\",\n",
    "    insert_end_col=\"insert_end_0_based\",\n",
    "    chrom_col=\"chrom\",\n",
    "    strand_col=\"strand\",\n",
    "    gene_id_col=\"gene_id\",\n",
    "    target_type_col=\"target_type\",\n",
    ")"
   ]
  },
  {
   "cell_type": "markdown",
   "id": "38830681-df15-4067-90b2-0b0f2e762cd1",
   "metadata": {},
   "source": [
    "You can also add on your own custom fields using the additional_target_info_cols parameter. Below we add on the amplicon insert length information. If there is a field that you want to add and think others would find useful please [contact us](https://www.plasmogenepi.org/DataStandards) and we can add it in. This way we can make sure to keep ontologies consistent!"
   ]
  },
  {
   "cell_type": "code",
   "execution_count": 14,
   "id": "e71fd00f-269b-4284-8f9d-78a7a9152d71",
   "metadata": {},
   "outputs": [],
   "source": [
    "panel_information_pmo = panel_info_table_to_pmo_dict(\n",
    "    madhatter_panel_info,\n",
    "    \"mad4hatter_poolsD1R1R2\",\n",
    "    target_genome_info,\n",
    "    target_id_col=\"amplicon\",\n",
    "    forward_primers_seq_col=\"fwd_primer\",\n",
    "    reverse_primers_seq_col=\"rev_primer\",\n",
    "    forward_primers_start_col=\"fwd_primer_start_0_based\",\n",
    "    forward_primers_end_col=\"fwd_primer_end_0_based\",\n",
    "    reverse_primers_start_col=\"rev_primer_start_0_based\",\n",
    "    reverse_primers_end_col=\"rev_primer_end_0_based\",\n",
    "    insert_start_col=\"insert_start_0_based\",\n",
    "    insert_end_col=\"insert_end_0_based\",\n",
    "    chrom_col=\"chrom\",\n",
    "    strand_col=\"strand\",\n",
    "    gene_id_col=\"gene_id\",\n",
    "    target_type_col=\"target_type\",\n",
    "    additional_target_info_cols=[\"ampInsert_length\"]\n",
    ")"
   ]
  },
  {
   "cell_type": "markdown",
   "id": "6280cdc5-fef8-4399-8a0d-540c38c1399c",
   "metadata": {},
   "source": [
    "Let's have a look at this now with the extra information added to the panel information"
   ]
  },
  {
   "cell_type": "code",
   "execution_count": 15,
   "id": "522a81b7-ee41-4a10-b068-e66d71ee7331",
   "metadata": {},
   "outputs": [
    {
     "name": "stdout",
     "output_type": "stream",
     "text": [
      "{\n",
      "    \"panel_info\": {\n",
      "        \"mad4hatter_poolsD1R1R2\": {\n",
      "            \"panel_id\": \"mad4hatter_poolsD1R1R2\",\n",
      "            \"target_genome\": {\n",
      "                \"gff_url\": \"https://plasmodb.org/common/downloads/release-65/Pfalciparum3D7/gff/data/PlasmoDB-65_Pfalciparum3D7.gff\",\n",
      "                \"name\": \"3D7\",\n",
      "                \"taxon_id\": 5833,\n",
      "                \"url\": \"https://plasmodb.org/common/downloads/release-65/Pfalciparum3D7/fasta/data/PlasmoDB-65_Pfalciparum3D7_Genome.fasta\",\n",
      "                \"version\": \"2020-09-01\"\n",
      "            },\n",
      "            \"targets\": {\n",
      "                \"Pf3D7_01_v3-145388-145662-1A\": {\n",
      "                    \"target_id\": \"Pf3D7_01_v3-145388-145662-1A\",\n",
      "                    \"forward_primers\": [\n",
      "                        {\n",
      "                            \"seq\": \"CCTGAGTTTTAAGTGAATGAATATATTTTTGTT\",\n",
      "                            \"location\": {\n",
      "                                \"chrom\": \"Pf3D7_01_v3\",\n",
      "                                \"end\": 145420,\n",
      "                                \"start\": 145387,\n",
      "                                \"strand\": \"+\"\n",
      "                            }\n",
      "                        }\n",
      "                    ],\n",
      "                    \"reverse_primers\": [\n",
      "                        {\n",
      "                            \"seq\": \"AAAATGTCCAATATGTCAAGGTATATTAAAGT\",\n",
      "                            \"location\": {\n",
      "                                \"chrom\": \"Pf3D7_01_v3\",\n",
      "                                \"end\": 145662,\n",
      "                                \"start\": 145630,\n",
      "                                \"strand\": \"+\"\n",
      "                            }\n",
      "                        }\n",
      "                    ],\n",
      "                    \"gene_id\": \"PF3D7_0103300\",\n",
      "                    \"target_type\": \"diversity\",\n",
      "                    \"ampInsert_length\": 209,\n",
      "                    \"insert_location\": {\n",
      "                        \"chrom\": \"Pf3D7_01_v3\",\n",
      "                        \"start\": 145421,\n",
      "                        \"end\": 145629,\n",
      "                        \"strand\": \"+\"\n",
      "                    }\n",
      "                },\n"
     ]
    }
   ],
   "source": [
    "print_json_head(panel_information_pmo,46)"
   ]
  },
  {
   "cell_type": "markdown",
   "id": "beac7658-a819-40fa-a281-beb2b1ee7fc7",
   "metadata": {},
   "source": [
    "### Metadata"
   ]
  },
  {
   "cell_type": "markdown",
   "id": "ea728e76-cb0b-48a8-8428-b7750b22f671",
   "metadata": {},
   "source": [
    "This section will compile metadata on two levels:\n",
    "\n",
    "* Specimen Level: Information about specimen that was collected.\n",
    "* Experiment Level: Information about the sequencing or amplification runs performed on a specimen.\n",
    "  \n",
    "It’s important to note that a single specimen may be linked to multiple experiments.\n",
    "\n",
    "In our example this is stored in one table, but may be stored in multiple places for you."
   ]
  },
  {
   "cell_type": "code",
   "execution_count": 16,
   "id": "751ea9c5-6c8e-4f77-8dcc-9d0e6595d9bf",
   "metadata": {},
   "outputs": [
    {
     "data": {
      "text/html": [
       "<div>\n",
       "<style scoped>\n",
       "    .dataframe tbody tr th:only-of-type {\n",
       "        vertical-align: middle;\n",
       "    }\n",
       "\n",
       "    .dataframe tbody tr th {\n",
       "        vertical-align: top;\n",
       "    }\n",
       "\n",
       "    .dataframe thead th {\n",
       "        text-align: right;\n",
       "    }\n",
       "</style>\n",
       "<table border=\"1\" class=\"dataframe\">\n",
       "  <thead>\n",
       "    <tr style=\"text-align: right;\">\n",
       "      <th></th>\n",
       "      <th>specimen_id</th>\n",
       "      <th>collection_date</th>\n",
       "      <th>collection_country</th>\n",
       "      <th>samp_collect_device</th>\n",
       "      <th>lat_lon</th>\n",
       "      <th>collector</th>\n",
       "      <th>geo_admin3</th>\n",
       "      <th>host_taxon_id</th>\n",
       "      <th>project_name</th>\n",
       "      <th>samp_store_loc</th>\n",
       "      <th>samp_taxon_id</th>\n",
       "      <th>experiment_sample_id</th>\n",
       "      <th>panel_id</th>\n",
       "      <th>plate_name</th>\n",
       "      <th>plate_row</th>\n",
       "      <th>plate_col</th>\n",
       "      <th>sequencing_info_id</th>\n",
       "    </tr>\n",
       "  </thead>\n",
       "  <tbody>\n",
       "    <tr>\n",
       "      <th>0</th>\n",
       "      <td>SAMN38241219</td>\n",
       "      <td>2019-01</td>\n",
       "      <td>Mozambique</td>\n",
       "      <td>dried blood spot</td>\n",
       "      <td>25.58,32.35</td>\n",
       "      <td>Brokhattingen, Nanna</td>\n",
       "      <td>Maputo</td>\n",
       "      <td>1758</td>\n",
       "      <td>PRJNA1040019</td>\n",
       "      <td>UCSF Greenhouse Lab</td>\n",
       "      <td>5833</td>\n",
       "      <td>SRR26819135</td>\n",
       "      <td>Mad4hatter</td>\n",
       "      <td>plate1</td>\n",
       "      <td>A</td>\n",
       "      <td>1</td>\n",
       "      <td>run1</td>\n",
       "    </tr>\n",
       "    <tr>\n",
       "      <th>1</th>\n",
       "      <td>SAMN38241215</td>\n",
       "      <td>2017-02</td>\n",
       "      <td>Mozambique</td>\n",
       "      <td>dried blood spot</td>\n",
       "      <td>25.58,32.35</td>\n",
       "      <td>Brokhattingen, Nanna</td>\n",
       "      <td>Maputo</td>\n",
       "      <td>1758</td>\n",
       "      <td>PRJNA1040019</td>\n",
       "      <td>UCSF Greenhouse Lab</td>\n",
       "      <td>5833</td>\n",
       "      <td>SRR26819139</td>\n",
       "      <td>Mad4hatter</td>\n",
       "      <td>plate1</td>\n",
       "      <td>A</td>\n",
       "      <td>2</td>\n",
       "      <td>run1</td>\n",
       "    </tr>\n",
       "    <tr>\n",
       "      <th>2</th>\n",
       "      <td>SAMN38241214</td>\n",
       "      <td>2016-05</td>\n",
       "      <td>Mozambique</td>\n",
       "      <td>dried blood spot</td>\n",
       "      <td>25.58,32.35</td>\n",
       "      <td>Brokhattingen, Nanna</td>\n",
       "      <td>Maputo</td>\n",
       "      <td>1758</td>\n",
       "      <td>PRJNA1040019</td>\n",
       "      <td>UCSF Greenhouse Lab</td>\n",
       "      <td>5833</td>\n",
       "      <td>SRR26819141</td>\n",
       "      <td>Mad4hatter</td>\n",
       "      <td>plate1</td>\n",
       "      <td>A</td>\n",
       "      <td>3</td>\n",
       "      <td>run1</td>\n",
       "    </tr>\n",
       "    <tr>\n",
       "      <th>3</th>\n",
       "      <td>SAMN38241052</td>\n",
       "      <td>2015-05</td>\n",
       "      <td>Mozambique</td>\n",
       "      <td>dried blood spot</td>\n",
       "      <td>25.58,32.35</td>\n",
       "      <td>Brokhattingen, Nanna</td>\n",
       "      <td>Maputo</td>\n",
       "      <td>1758</td>\n",
       "      <td>PRJNA1040019</td>\n",
       "      <td>UCSF Greenhouse Lab</td>\n",
       "      <td>5833</td>\n",
       "      <td>SRR26819151</td>\n",
       "      <td>Mad4hatter</td>\n",
       "      <td>plate1</td>\n",
       "      <td>A</td>\n",
       "      <td>4</td>\n",
       "      <td>run1</td>\n",
       "    </tr>\n",
       "    <tr>\n",
       "      <th>4</th>\n",
       "      <td>SAMN38241112</td>\n",
       "      <td>2019-06</td>\n",
       "      <td>Mozambique</td>\n",
       "      <td>dried blood spot</td>\n",
       "      <td>25.58,32.35</td>\n",
       "      <td>Brokhattingen, Nanna</td>\n",
       "      <td>Maputo</td>\n",
       "      <td>1758</td>\n",
       "      <td>PRJNA1040019</td>\n",
       "      <td>UCSF Greenhouse Lab</td>\n",
       "      <td>5833</td>\n",
       "      <td>SRR26819200</td>\n",
       "      <td>Mad4hatter</td>\n",
       "      <td>plate1</td>\n",
       "      <td>A</td>\n",
       "      <td>5</td>\n",
       "      <td>run1</td>\n",
       "    </tr>\n",
       "  </tbody>\n",
       "</table>\n",
       "</div>"
      ],
      "text/plain": [
       "    specimen_id collection_date collection_country samp_collect_device  \\\n",
       "0  SAMN38241219         2019-01         Mozambique    dried blood spot   \n",
       "1  SAMN38241215         2017-02         Mozambique    dried blood spot   \n",
       "2  SAMN38241214         2016-05         Mozambique    dried blood spot   \n",
       "3  SAMN38241052         2015-05         Mozambique    dried blood spot   \n",
       "4  SAMN38241112         2019-06         Mozambique    dried blood spot   \n",
       "\n",
       "       lat_lon             collector geo_admin3  host_taxon_id  project_name  \\\n",
       "0  25.58,32.35  Brokhattingen, Nanna     Maputo           1758  PRJNA1040019   \n",
       "1  25.58,32.35  Brokhattingen, Nanna     Maputo           1758  PRJNA1040019   \n",
       "2  25.58,32.35  Brokhattingen, Nanna     Maputo           1758  PRJNA1040019   \n",
       "3  25.58,32.35  Brokhattingen, Nanna     Maputo           1758  PRJNA1040019   \n",
       "4  25.58,32.35  Brokhattingen, Nanna     Maputo           1758  PRJNA1040019   \n",
       "\n",
       "        samp_store_loc  samp_taxon_id experiment_sample_id    panel_id  \\\n",
       "0  UCSF Greenhouse Lab           5833          SRR26819135  Mad4hatter   \n",
       "1  UCSF Greenhouse Lab           5833          SRR26819139  Mad4hatter   \n",
       "2  UCSF Greenhouse Lab           5833          SRR26819141  Mad4hatter   \n",
       "3  UCSF Greenhouse Lab           5833          SRR26819151  Mad4hatter   \n",
       "4  UCSF Greenhouse Lab           5833          SRR26819200  Mad4hatter   \n",
       "\n",
       "  plate_name plate_row  plate_col sequencing_info_id  \n",
       "0     plate1         A          1               run1  \n",
       "1     plate1         A          2               run1  \n",
       "2     plate1         A          3               run1  \n",
       "3     plate1         A          4               run1  \n",
       "4     plate1         A          5               run1  "
      ]
     },
     "execution_count": 16,
     "metadata": {},
     "output_type": "execute_result"
    }
   ],
   "source": [
    "metadata = pd.read_excel('example_data/mad4hatter_metadata_example.xlsx')\n",
    "metadata.head()"
   ]
  },
  {
   "cell_type": "markdown",
   "id": "3f16dff0-1963-44d7-b581-2f10b8955d45",
   "metadata": {},
   "source": [
    "#### Specimen Level Metadata \n",
    "\n",
    "Now we put together the specimen level metadata. This is the metadata associated with the sample collected from the host. For more information on this section see the [documentation](https://plasmogenepi.github.io/PMO_Docs/format/FormatOverview.html#specimeninfo). "
   ]
  },
  {
   "cell_type": "code",
   "execution_count": 17,
   "id": "26203fd9-e278-422e-bee8-f9887d11c23c",
   "metadata": {},
   "outputs": [
    {
     "name": "stdout",
     "output_type": "stream",
     "text": [
      "\n",
      "    Converts a DataFrame containing specimen information into JSON.\n",
      "\n",
      "    :param contents (pd.DataFrame): The input DataFrame containing experiment data.\n",
      "    :param specimen_id_col (str): The column name for specimen sample IDs. Default: specimen_id\n",
      "    :param samp_taxon_id (int): NCBI taxonomy number of the organism. Default: samp_taxon_id\n",
      "    :param collection_date (string): Date of the sample collection. Default: collection_date\n",
      "    :param collection_country (string): Name of country collected in (admin level 0). Default : collection_country\n",
      "    :param collector (string): Name of the primary person managing the specimen. Default: collector\n",
      "    :param samp_store_loc (string): Sample storage site. Default: samp_store_loc\n",
      "    :param samp_collect_device (string): The way the sample was collected. Default : samp_collect_device\n",
      "    :param project_name (string): Name of the project. Default : project_name\n",
      "    :param alternate_identifiers (Optional[str]): List of optional alternative names for the samples\n",
      "    :param geo_admin1 (Optional[str]): Geographical admin level 1\n",
      "    :param geo_admin2 (Optional[str]): Geographical admin level 2\n",
      "    :param geo_admin3 (Optional[str]): Geographical admin level 3\n",
      "    :param host_taxon_id (Optional[int]): NCBI taxonomy number of the host\n",
      "    :param individual_id (Optional[str]): ID for the individual a specimen was collected from\n",
      "    :param lat_lon (Optional[str]): Latitude and longitude of the collection site\n",
      "    :param parasite_density (Optional[float]): The parasite density\n",
      "    :param plate_col (Optional[int]): Column the specimen was in in the plate\n",
      "    :param plate_name (Optional[str]): Name of plate the specimen was in\n",
      "    :param plate_row (Optional[str]): Row the specimen was in in the plate\n",
      "    :param sample_comments (Optional[str]): Additional comments about the sample\n",
      "    :param additional_specimen_cols (Optional[List[str], None]]): Additional column names to include\n",
      "\n",
      "    :return: JSON format where keys are `specimen_id` and values are corresponding row data.\n",
      "    \n"
     ]
    }
   ],
   "source": [
    "print(specimen_info_table_to_json.__doc__)"
   ]
  },
  {
   "cell_type": "code",
   "execution_count": 18,
   "id": "d732cd5e-24e2-430c-bba1-4d8f2ed2a2f5",
   "metadata": {},
   "outputs": [
    {
     "name": "stdout",
     "output_type": "stream",
     "text": [
      "{\n",
      "    \"SAMN38241219\": {\n",
      "        \"specimen_id\": \"SAMN38241219\",\n",
      "        \"samp_taxon_id\": 5833,\n",
      "        \"collection_date\": \"2019-01\",\n",
      "        \"collection_country\": \"Mozambique\",\n",
      "        \"collector\": \"Brokhattingen, Nanna\",\n",
      "        \"samp_store_loc\": \"UCSF Greenhouse Lab\",\n",
      "        \"samp_collect_device\": \"dried blood spot\",\n",
      "        \"project_name\": \"PRJNA1040019\",\n",
      "        \"geo_admin3\": \"Maputo\",\n",
      "        \"host_taxon_id\": 1758,\n",
      "        \"lat_lon\": \"25.58,32.35\"\n",
      "    },\n",
      "    \"SAMN38241215\": {\n",
      "        \"specimen_id\": \"SAMN38241215\",\n",
      "        \"samp_taxon_id\": 5833,\n",
      "        \"collection_date\": \"2017-02\",\n",
      "        \"collection_country\": \"Mozambique\",\n",
      "        \"collector\": \"Brokhattingen, Nanna\",\n"
     ]
    }
   ],
   "source": [
    "specimen_info_json = specimen_info_table_to_json(metadata, geo_admin3='geo_admin3',host_taxon_id='host_taxon_id', lat_lon='lat_lon')\n",
    "print_json_head(specimen_info_json, 20)"
   ]
  },
  {
   "cell_type": "markdown",
   "id": "7ffb7638-d60a-4c27-ab04-e109ea7e2449",
   "metadata": {},
   "source": [
    "#### Experiment Level Metadata \n",
    "\n",
    "This section shows how to put together the experiment level metadata. More information on this table can be found [here](pd.read_excel('example_data/mad4hatter_experiment_info_table_example.xlsx')."
   ]
  },
  {
   "cell_type": "code",
   "execution_count": 19,
   "id": "f22f1ddb-6587-4182-b315-c61aa8456b95",
   "metadata": {},
   "outputs": [
    {
     "name": "stdout",
     "output_type": "stream",
     "text": [
      "\n",
      "    Converts a DataFrame containing experiment information into JSON.\n",
      "\n",
      "    :param contents (pd.DataFrame): Input DataFrame containing experiment data.\n",
      "    :param experiment_sample_id_col (str): Column name for experiment sample IDs. Default: experiment_sample_id\n",
      "    :param sequencing_info_id (str): Column name for sequencing information IDs. Default: sequencing_info_id\n",
      "    :param specimen_id (str): Column name for specimen IDs. Default: specimen_id\n",
      "    :param panel_id (str): Column name for panel IDs. Default: panel_id\n",
      "    :param accession (Optional[str]): Column name for accession information.\n",
      "    :param plate_col (Optional[int]): Column index for plate information.\n",
      "    :param plate_name (Optional[str]): Column name for plate names.\n",
      "    :param plate_row (Optional[str]): Column name for plate rows.\n",
      "    :param additional_experiment_cols (Optional[List[str], None]]): Additional column names to include.\n",
      "\n",
      "    :return: JSON format where keys are `experiment_sample_id` and values are corresponding row data.\n",
      "    \n"
     ]
    }
   ],
   "source": [
    "print(experiment_info_table_to_json.__doc__)"
   ]
  },
  {
   "cell_type": "code",
   "execution_count": 20,
   "id": "420e8468-5b7d-4eaf-acd5-a58eb7921c35",
   "metadata": {},
   "outputs": [
    {
     "name": "stdout",
     "output_type": "stream",
     "text": [
      "{\n",
      "    \"SRR26819135\": {\n",
      "        \"experiment_sample_id\": \"SRR26819135\",\n",
      "        \"sequencing_info_id\": \"run1\",\n",
      "        \"specimen_id\": \"SAMN38241219\",\n",
      "        \"panel_id\": \"Mad4hatter\",\n",
      "        \"plate_col\": 1,\n",
      "        \"plate_name\": \"plate1\",\n",
      "        \"plate_row\": \"A\",\n",
      "        \"collection_date\": \"2019-01\",\n",
      "        \"collection_country\": \"Mozambique\"\n",
      "    },\n",
      "    \"SRR26819139\": {\n",
      "        \"experiment_sample_id\": \"SRR26819139\",\n",
      "        \"sequencing_info_id\": \"run1\",\n",
      "        \"specimen_id\": \"SAMN38241215\",\n",
      "        \"panel_id\": \"Mad4hatter\",\n",
      "        \"plate_col\": 2,\n",
      "        \"plate_name\": \"plate1\",\n",
      "        \"plate_row\": \"A\",\n"
     ]
    }
   ],
   "source": [
    "experiment_info_json = experiment_info_table_to_json(metadata, plate_name='plate_name', plate_col='plate_col',plate_row='plate_row', additional_experiment_cols=['collection_date','collection_country'])\n",
    "print_json_head(experiment_info_json, 20)"
   ]
  },
  {
   "cell_type": "markdown",
   "id": "291335dd-a857-4023-818e-1df8103c994e",
   "metadata": {},
   "source": [
    "### Microhaplotype Information "
   ]
  },
  {
   "cell_type": "markdown",
   "id": "96b51ae0-3be3-4286-8f7a-f9f23758fd8f",
   "metadata": {},
   "source": [
    "Next, we’ll organize the microhaplotype information into the required format. \n",
    "\n",
    "This involves two components that we will generate from one table(click on the links to find out more information about each part): \n",
    "\n",
    "* The [representative microhaplotype details](https://plasmogenepi.github.io/PMO_Docs/format/FormatOverview.html#representativemicrohaplotypesequences): A summary of all of unique microhaplotypes called within the population you have included in your PMO for each target. Each unique microhaplotype will be assigned a short ID within PMO to improve the scalability of the format. \n",
    "* The [detected microhaplotypes](https://plasmogenepi.github.io/PMO_Docs/format/FormatOverview.html#microhaplotypesdetected): Microhaplotypes called for each sample for each target and the associated reads. This will be linked to the above table using the generated microhaplotype ID instead of the full microhaplotype sequence.\n",
    "\n",
    "First we will load an example allele table that may be similar to something you have from your own microhaplotype pipeline. This table includes a sampleID, the target, and the ASV and number of reads detected for each of these."
   ]
  },
  {
   "cell_type": "code",
   "execution_count": 21,
   "id": "cfe02fb2-580f-4013-8a72-41e5f1f7c063",
   "metadata": {},
   "outputs": [
    {
     "data": {
      "text/html": [
       "<div>\n",
       "<style scoped>\n",
       "    .dataframe tbody tr th:only-of-type {\n",
       "        vertical-align: middle;\n",
       "    }\n",
       "\n",
       "    .dataframe tbody tr th {\n",
       "        vertical-align: top;\n",
       "    }\n",
       "\n",
       "    .dataframe thead th {\n",
       "        text-align: right;\n",
       "    }\n",
       "</style>\n",
       "<table border=\"1\" class=\"dataframe\">\n",
       "  <thead>\n",
       "    <tr style=\"text-align: right;\">\n",
       "      <th></th>\n",
       "      <th>SampleID</th>\n",
       "      <th>Locus</th>\n",
       "      <th>ASV</th>\n",
       "      <th>Reads</th>\n",
       "      <th>Allele</th>\n",
       "      <th>PseudoCIGAR</th>\n",
       "    </tr>\n",
       "  </thead>\n",
       "  <tbody>\n",
       "    <tr>\n",
       "      <th>0</th>\n",
       "      <td>SRR26819553</td>\n",
       "      <td>Pf3D7_01_v3-145388-145662-1A</td>\n",
       "      <td>GATATGTTTAAATATATGATTCTCGAAAAAACTTTTTTTATTTTTT...</td>\n",
       "      <td>13</td>\n",
       "      <td>Pf3D7_01_v3-145388-145662-1A.1</td>\n",
       "      <td>25+25N169+8N188+9N</td>\n",
       "    </tr>\n",
       "    <tr>\n",
       "      <th>1</th>\n",
       "      <td>SRR26819207</td>\n",
       "      <td>Pf3D7_01_v3-145388-145662-1A</td>\n",
       "      <td>GATATGTTTAAATATATGATTCTCGAAAAAACTTTTTTTATTTTTT...</td>\n",
       "      <td>4</td>\n",
       "      <td>Pf3D7_01_v3-145388-145662-1A.2</td>\n",
       "      <td>25+25N94A139T169+8N188+9N</td>\n",
       "    </tr>\n",
       "    <tr>\n",
       "      <th>2</th>\n",
       "      <td>SRR26819545</td>\n",
       "      <td>Pf3D7_01_v3-145388-145662-1A</td>\n",
       "      <td>GATATGTTTAAATATATGATTCTCGAAAAAACTTTTTTTATTTTTT...</td>\n",
       "      <td>22</td>\n",
       "      <td>Pf3D7_01_v3-145388-145662-1A.1</td>\n",
       "      <td>25+25N169+8N188+9N</td>\n",
       "    </tr>\n",
       "    <tr>\n",
       "      <th>3</th>\n",
       "      <td>SRR26819527</td>\n",
       "      <td>Pf3D7_01_v3-145388-145662-1A</td>\n",
       "      <td>GATATGTTTAAATATATGATTCTCGAAAAAACTTTTTTTATTTTTT...</td>\n",
       "      <td>1</td>\n",
       "      <td>Pf3D7_01_v3-145388-145662-1A.2</td>\n",
       "      <td>25+25N94A139T169+8N188+9N</td>\n",
       "    </tr>\n",
       "    <tr>\n",
       "      <th>4</th>\n",
       "      <td>SRR26819214</td>\n",
       "      <td>Pf3D7_01_v3-145388-145662-1A</td>\n",
       "      <td>GATATGTTTAAATATATGATTCTCGAAAAAACTTTTTTTATTTTTT...</td>\n",
       "      <td>14</td>\n",
       "      <td>Pf3D7_01_v3-145388-145662-1A.3</td>\n",
       "      <td>25+25N139T169+8N188+9N</td>\n",
       "    </tr>\n",
       "  </tbody>\n",
       "</table>\n",
       "</div>"
      ],
      "text/plain": [
       "      SampleID                         Locus  \\\n",
       "0  SRR26819553  Pf3D7_01_v3-145388-145662-1A   \n",
       "1  SRR26819207  Pf3D7_01_v3-145388-145662-1A   \n",
       "2  SRR26819545  Pf3D7_01_v3-145388-145662-1A   \n",
       "3  SRR26819527  Pf3D7_01_v3-145388-145662-1A   \n",
       "4  SRR26819214  Pf3D7_01_v3-145388-145662-1A   \n",
       "\n",
       "                                                 ASV  Reads  \\\n",
       "0  GATATGTTTAAATATATGATTCTCGAAAAAACTTTTTTTATTTTTT...     13   \n",
       "1  GATATGTTTAAATATATGATTCTCGAAAAAACTTTTTTTATTTTTT...      4   \n",
       "2  GATATGTTTAAATATATGATTCTCGAAAAAACTTTTTTTATTTTTT...     22   \n",
       "3  GATATGTTTAAATATATGATTCTCGAAAAAACTTTTTTTATTTTTT...      1   \n",
       "4  GATATGTTTAAATATATGATTCTCGAAAAAACTTTTTTTATTTTTT...     14   \n",
       "\n",
       "                           Allele                PseudoCIGAR  \n",
       "0  Pf3D7_01_v3-145388-145662-1A.1         25+25N169+8N188+9N  \n",
       "1  Pf3D7_01_v3-145388-145662-1A.2  25+25N94A139T169+8N188+9N  \n",
       "2  Pf3D7_01_v3-145388-145662-1A.1         25+25N169+8N188+9N  \n",
       "3  Pf3D7_01_v3-145388-145662-1A.2  25+25N94A139T169+8N188+9N  \n",
       "4  Pf3D7_01_v3-145388-145662-1A.3     25+25N139T169+8N188+9N  "
      ]
     },
     "execution_count": 21,
     "metadata": {},
     "output_type": "execute_result"
    }
   ],
   "source": [
    "example_allele_table = pd.read_csv(allele_table_path, sep='\\t')\n",
    "example_allele_table.head()"
   ]
  },
  {
   "cell_type": "markdown",
   "id": "82d31259-8360-43c2-bfef-035007fa921c",
   "metadata": {},
   "source": [
    "Let's have a look at the function we will use to create this part of PMO `microhaplotype_table_to_pmo_dict`"
   ]
  },
  {
   "cell_type": "code",
   "execution_count": 22,
   "id": "c43520aa-6afb-4b93-961e-2256a7c6a024",
   "metadata": {},
   "outputs": [
    {
     "name": "stdout",
     "output_type": "stream",
     "text": [
      "\n",
      "    Convert a dataframe of a microhaplotype calls into a dictionary containing a dictionary for the haplotypes_detected and a dictionary for the representative_haplotype_sequences.\n",
      "\n",
      "    :param contents: The dataframe containing microhaplotype calls\n",
      "    :param bioinfo_id: the bioinformatics ID of the microhaplotype table\n",
      "    :param sampleID_col: the name of the column containing the sample IDs\n",
      "    :param locus_col: the name of the column containing the locus IDs\n",
      "    :param mhap_col: the name of the column containing the microhaplotype sequence\n",
      "    :param reads_col: the name of the column containing the reads counts\n",
      "    :param additional_hap_detected_cols: optional additional columns to add to the microhaplotype detected dictionary, the key is the pandas column and the value is what to name it in the output\n",
      "    :return: a dict of both the haplotypes_detected and representative_haplotype_sequences\n",
      "    \n"
     ]
    }
   ],
   "source": [
    "print(microhaplotype_table_to_pmo_dict.__doc__)"
   ]
  },
  {
   "cell_type": "markdown",
   "id": "aa5d58ca-1b1e-4057-b381-1ef55fbc98ce",
   "metadata": {},
   "source": [
    "We can see that we need a dataframe with columns for **sample IDs**, **locus names**, **microhaplotype sequences**, and their corresponding **read counts**. We also need to supply a unique **bioinformatics ID**. Including this ID allows us to store results from multiple bioinformatics pipelines run on the same sequencing data in a unified format if necessary.\n",
    "\n",
    "Here we set a bioinformatics ID, so we can use the same one when generating other tables later on. "
   ]
  },
  {
   "cell_type": "code",
   "execution_count": 23,
   "id": "d3a4809a-4f15-4fba-a4e0-c53ba9ed8711",
   "metadata": {},
   "outputs": [],
   "source": [
    "bioinfo_id = \"Mozambique2018-MAD4HatTeR\""
   ]
  },
  {
   "cell_type": "markdown",
   "id": "d7d1d6b6-6336-4161-8561-1201cd5f3e1e",
   "metadata": {},
   "source": [
    "The function has default column names that align with the standard output from DADA2. However, since we’re using MAD4HatTeR data, which has slightly different column headers, we’ll need to specify these column names explicitly in the function."
   ]
  },
  {
   "cell_type": "code",
   "execution_count": 24,
   "id": "dac31235-eca9-4d9c-a31c-38f4538bb2e3",
   "metadata": {},
   "outputs": [],
   "source": [
    "microhaplotype_info = microhaplotype_table_to_pmo_dict(\n",
    "    example_allele_table,\n",
    "    sampleID_col=\"SampleID\",\n",
    "    locus_col=\"Locus\",\n",
    "    mhap_col=\"ASV\",\n",
    "    reads_col=\"Reads\",\n",
    "    bioinfo_id=bioinfo_id,\n",
    ")"
   ]
  },
  {
   "cell_type": "markdown",
   "id": "65bd7c04-12f0-4565-99b5-083347d57c57",
   "metadata": {},
   "source": [
    "### Demultiplexed Experiment Samples"
   ]
  },
  {
   "cell_type": "markdown",
   "id": "c02e56b5-9334-4634-891b-41528cb460f4",
   "metadata": {},
   "source": [
    "We also include information on the demultiplexed reads for each Sample for each target using a function called `demultiplexed_targets_to_pmo_dict`."
   ]
  },
  {
   "cell_type": "code",
   "execution_count": 25,
   "id": "41d2294e-6863-4536-9e44-f559d5042134",
   "metadata": {},
   "outputs": [
    {
     "name": "stdout",
     "output_type": "stream",
     "text": [
      "\n",
      "    Convert a dataframe of microhaplotype calls into a dictionary for detected haplotypes \n",
      "    and representative haplotype sequences.\n",
      "\n",
      "    :param contents: DataFrame containing demultiplexed sample information\n",
      "    :param bioinfo_id: Bioinformatics ID of the demultiplexed targets\n",
      "    :param sampleID_col: Name of the column containing sample IDs\n",
      "    :param target_id_col: Name of the column containing locus IDs\n",
      "    :param read_count_col: Name of the column containing read counts\n",
      "    :param additional_hap_detected_cols: Optional columns to include in the output,\n",
      "                                         with keys as column names and values as their output names\n",
      "    :return: JSON string containing the processed data\n",
      "    \n"
     ]
    }
   ],
   "source": [
    "print(demultiplexed_targets_to_pmo_dict.__doc__)"
   ]
  },
  {
   "cell_type": "code",
   "execution_count": 26,
   "id": "da6ad600-25f0-4501-a1dc-48f7e706efdc",
   "metadata": {},
   "outputs": [
    {
     "data": {
      "text/html": [
       "<div>\n",
       "<style scoped>\n",
       "    .dataframe tbody tr th:only-of-type {\n",
       "        vertical-align: middle;\n",
       "    }\n",
       "\n",
       "    .dataframe tbody tr th {\n",
       "        vertical-align: top;\n",
       "    }\n",
       "\n",
       "    .dataframe thead th {\n",
       "        text-align: right;\n",
       "    }\n",
       "</style>\n",
       "<table border=\"1\" class=\"dataframe\">\n",
       "  <thead>\n",
       "    <tr style=\"text-align: right;\">\n",
       "      <th></th>\n",
       "      <th>SampleID</th>\n",
       "      <th>Locus</th>\n",
       "      <th>Reads</th>\n",
       "      <th>OutputDada2</th>\n",
       "      <th>OutputPostprocessing</th>\n",
       "    </tr>\n",
       "  </thead>\n",
       "  <tbody>\n",
       "    <tr>\n",
       "      <th>0</th>\n",
       "      <td>SRR26819135</td>\n",
       "      <td>Pf3D7_01_v3-145388-145662-1A</td>\n",
       "      <td>54</td>\n",
       "      <td>54</td>\n",
       "      <td>54</td>\n",
       "    </tr>\n",
       "    <tr>\n",
       "      <th>1</th>\n",
       "      <td>SRR26819135</td>\n",
       "      <td>Pf3D7_01_v3-162867-163115-1A</td>\n",
       "      <td>400</td>\n",
       "      <td>398</td>\n",
       "      <td>398</td>\n",
       "    </tr>\n",
       "    <tr>\n",
       "      <th>2</th>\n",
       "      <td>SRR26819135</td>\n",
       "      <td>Pf3D7_01_v3-181512-181761-1A</td>\n",
       "      <td>266</td>\n",
       "      <td>266</td>\n",
       "      <td>266</td>\n",
       "    </tr>\n",
       "    <tr>\n",
       "      <th>3</th>\n",
       "      <td>SRR26819135</td>\n",
       "      <td>Pf3D7_01_v3-455794-456054-1A</td>\n",
       "      <td>81</td>\n",
       "      <td>80</td>\n",
       "      <td>80</td>\n",
       "    </tr>\n",
       "    <tr>\n",
       "      <th>4</th>\n",
       "      <td>SRR26819135</td>\n",
       "      <td>Pf3D7_01_v3-528859-529104-1A</td>\n",
       "      <td>485</td>\n",
       "      <td>485</td>\n",
       "      <td>485</td>\n",
       "    </tr>\n",
       "  </tbody>\n",
       "</table>\n",
       "</div>"
      ],
      "text/plain": [
       "      SampleID                         Locus  Reads  OutputDada2  \\\n",
       "0  SRR26819135  Pf3D7_01_v3-145388-145662-1A     54           54   \n",
       "1  SRR26819135  Pf3D7_01_v3-162867-163115-1A    400          398   \n",
       "2  SRR26819135  Pf3D7_01_v3-181512-181761-1A    266          266   \n",
       "3  SRR26819135  Pf3D7_01_v3-455794-456054-1A     81           80   \n",
       "4  SRR26819135  Pf3D7_01_v3-528859-529104-1A    485          485   \n",
       "\n",
       "   OutputPostprocessing  \n",
       "0                    54  \n",
       "1                   398  \n",
       "2                   266  \n",
       "3                    80  \n",
       "4                   485  "
      ]
     },
     "execution_count": 26,
     "metadata": {},
     "output_type": "execute_result"
    }
   ],
   "source": [
    "amplicon_coverage = pd.read_csv(demultiplexed_reads_path, sep='\\t')\n",
    "amplicon_coverage.head()"
   ]
  },
  {
   "cell_type": "markdown",
   "id": "c00b3560-78d0-47d9-8dcf-c609592585b4",
   "metadata": {},
   "source": [
    "Note that we use the same `bioinfo_id` that we set above. "
   ]
  },
  {
   "cell_type": "code",
   "execution_count": 27,
   "id": "da4ccf13-3415-466f-8c67-0df901dde215",
   "metadata": {},
   "outputs": [],
   "source": [
    "demultiplexed_targets_pmo = demultiplexed_targets_to_pmo_dict(amplicon_coverage, bioinfo_id,  sampleID_col = 'SampleID', target_id_col='Locus',read_count_col ='Reads')"
   ]
  },
  {
   "cell_type": "code",
   "execution_count": 28,
   "id": "eab4daab-d48c-49ac-848d-7c7160dee8d1",
   "metadata": {},
   "outputs": [
    {
     "name": "stdout",
     "output_type": "stream",
     "text": [
      "{\n",
      "    \"target_demultiplexed_experiment_samples\": {\n",
      "        \"Mozambique2018-MAD4HatTeR\": {\n",
      "            \"demultiplexed_experiment_samples\": {\n",
      "                \"SRR26819135\": {\n",
      "                    \"demultiplexed_targets\": {\n",
      "                        \"experiment_sample_id\": \"SRR26819135\",\n",
      "                        \"Pf3D7_01_v3-145388-145662-1A\": {\n",
      "                            \"raw_read_count\": 54,\n",
      "                            \"target_id\": \"Pf3D7_01_v3-145388-145662-1A\"\n",
      "                        },\n",
      "                        \"Pf3D7_01_v3-162867-163115-1A\": {\n",
      "                            \"raw_read_count\": 400,\n",
      "                            \"target_id\": \"Pf3D7_01_v3-162867-163115-1A\"\n",
      "                        },\n"
     ]
    }
   ],
   "source": [
    "print_json_head(demultiplexed_targets_pmo, 15)"
   ]
  },
  {
   "cell_type": "markdown",
   "id": "fad9a2c4-9dc3-4a53-a682-0594c66c53ac",
   "metadata": {},
   "source": [
    "### Sequencing info\n",
    "\n",
    "PMO includes details of the sequencing run. Below is an example and more information on the required fields can be found [here](https://plasmogenepi.github.io/PMO_Docs/format/FormatOverview.html#sequencinginfo)"
   ]
  },
  {
   "cell_type": "code",
   "execution_count": 29,
   "id": "17825a8d-c6b9-44f5-b461-98cc6adb78d8",
   "metadata": {},
   "outputs": [],
   "source": [
    "sequencing_infos ={\n",
    "\t\t\"Mozambique2018\" : \n",
    "\t\t{\n",
    "\t\t\t\"lib_kit\" : \"TruSeq i5/i7 barcode primers\",\n",
    "\t\t\t\"lib_layout\" : \"paired-end\",\n",
    "\t\t\t\"lib_screen\" : \"40 µL reaction containing 10 µL of bead purified digested product, 18μL of nuclease-free water, 8μL of 5X secondary PCR master mix, and 5 µL of 10 µM TruSeq i5/i7 barcode primers\",\n",
    "\t\t\t\"nucl_acid_amp\" : \"https://www.paragongenomics.com/targeted-sequencing/amplicon-sequencing/cleanplex-ngs-amplicon-sequencing/\",\n",
    "\t\t\t\"nucl_acid_date\" : \"2019-07-15\",\n",
    "\t\t\t\"nucl_acid_ext\" : \"https://www.paragongenomics.com/targeted-sequencing/amplicon-sequencing/cleanplex-ngs-amplicon-sequencing/\",\n",
    "\t\t\t\"pcr_cond\" : \"10 min at 95°C, 13 cycles for high density samples (or 15 cycles for low density samples) of 15 sec at 98°C and 75 sec at 60°C\",\n",
    "\t\t\t\"seq_center\" : \"UCSF\",\n",
    "\t\t\t\"seq_date\" : \"2019-07-15\",\n",
    "\t\t\t\"seq_instrument\" : \"NextSeq 550 instrument\",\n",
    "\t\t\t\"sequencing_info_id\" : \"run1\"\n",
    "\t\t}\n",
    "\t}"
   ]
  },
  {
   "cell_type": "markdown",
   "id": "9da2b6fc-c9db-431a-8ed3-da526fc287a2",
   "metadata": {},
   "source": [
    "### Bioinformatics Info\n",
    "\n",
    "Now we manually enter some information on the bioinformatics run. More information on the fields can be found [here](https://plasmogenepi.github.io/PMO_Docs/format/FormatOverview.html#tarampbioinformaticsinfo). Below is an example from the MAD4HatTeR pipeline."
   ]
  },
  {
   "cell_type": "code",
   "execution_count": 30,
   "id": "4530da0e-70da-44b8-8264-90e20eb754e1",
   "metadata": {},
   "outputs": [],
   "source": [
    "taramp_bioinformatics_infos = {\n",
    "    bioinfo_id : \n",
    "    {\n",
    "        \"demultiplexing_method\" : \n",
    "        {\n",
    "            \"program\" : \"Cutadapt extractorPairedEnd\",\n",
    "            \"purpose\" : \"Takes raw paired-end reads and demultiplexes on primers and does QC filtering\",\n",
    "            \"version\" : \"v4.4\"\n",
    "        },\n",
    "        \"denoising_method\" : \n",
    "        {\n",
    "            \"program\" : \"DADA2\",\n",
    "            \"purpose\" : \"Takes sequences per sample per target and clusters them\",\n",
    "            \"version\" : \"v3.16\"\n",
    "        },\n",
    "        \"tar_amp_bioinformatics_info_id\" : bioinfo_id\n",
    "    }\n",
    "}"
   ]
  },
  {
   "cell_type": "markdown",
   "id": "d943aa7e-1d04-4583-9cfa-4296a809b32a",
   "metadata": {},
   "source": [
    "# Compose PMO"
   ]
  },
  {
   "cell_type": "markdown",
   "id": "7752f0e5-95cd-4015-b3c7-357f55465ee6",
   "metadata": {},
   "source": [
    "To create our final PMO we will put together all of the parts we have created"
   ]
  },
  {
   "cell_type": "code",
   "execution_count": 48,
   "id": "0aa8909b-93a8-4488-81ca-d062cd03db83",
   "metadata": {},
   "outputs": [],
   "source": [
    "# Put together the information we h\n",
    "format_pmo = {\n",
    "    \"experiment_infos\": experiment_info_json,  \n",
    "    \"sequencing_infos\": sequencing_infos, \n",
    "    \"specimen_infos\": specimen_info_json, \n",
    "    \"taramp_bioinformatics_infos\": taramp_bioinformatics_infos, \n",
    "    **microhaplotype_info, \n",
    "    **panel_information_pmo,\n",
    "    **demultiplexed_targets_pmo,\n",
    "}"
   ]
  },
  {
   "cell_type": "markdown",
   "id": "717152ab-a9ba-45e9-af4f-1eedc21c6cbe",
   "metadata": {},
   "source": [
    "Finally we output this to a file "
   ]
  },
  {
   "cell_type": "code",
   "execution_count": 32,
   "id": "42f0fbe9-dd90-47f5-bcc1-73d094d58311",
   "metadata": {},
   "outputs": [],
   "source": [
    "# Write to a JSON file\n",
    "output_file = \"example_pmo.json\"\n",
    "with open(output_file, \"w\") as f:\n",
    "    json.dump(format_pmo, f, indent=4)"
   ]
  },
  {
   "cell_type": "markdown",
   "id": "6e9d67c8-f2fa-4c63-9df4-1e50f1ad4933",
   "metadata": {},
   "source": [
    "That's it! You have put together a PMO, congratulations. \n",
    "\n",
    "Next time you should be able to reuse multiple parts with minor tweaks. See the rest of the documentation for ways that you can work with your new PMO file."
   ]
  }
 ],
 "metadata": {
  "kernelspec": {
   "display_name": "pmo_docs",
   "language": "python",
   "name": "pmo_docs"
  },
  "language_info": {
   "codemirror_mode": {
    "name": "ipython",
    "version": 3
   },
   "file_extension": ".py",
   "mimetype": "text/x-python",
   "name": "python",
   "nbconvert_exporter": "python",
   "pygments_lexer": "ipython3",
   "version": "3.12.8"
  }
 },
 "nbformat": 4,
 "nbformat_minor": 5
}
