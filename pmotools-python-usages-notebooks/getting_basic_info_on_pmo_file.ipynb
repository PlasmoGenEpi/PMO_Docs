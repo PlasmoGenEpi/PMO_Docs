{
 "cells": [
  {
   "cell_type": "code",
   "execution_count": 2,
   "id": "55c17cb9-6140-4969-8538-c692c3af299d",
   "metadata": {},
   "outputs": [],
   "source": [
    "from pmotools.pmo_utils.PMOExtractor import PMOExtractor\n",
    "from pmotools.pmo_utils.PMOReader import PMOReader\n",
    "from pmotools.utils.small_utils import Utils\n",
    "\n",
    "\n",
    "pmo = PMOReader.read_in_pmo(\"../format/moz2018_PMO.json.gz\")\n"
   ]
  },
  {
   "cell_type": "code",
   "execution_count": 5,
   "id": "18498680-f4e9-4bbc-ad88-0498adc53f36",
   "metadata": {},
   "outputs": [
    {
     "name": "stdout",
     "output_type": "stream",
     "text": [
      "   tar_amp_bioinformatics_info_id target_id sample_number\n",
      "0         Mozambique2018-SeekDeep        t1           119\n",
      "0         Mozambique2018-SeekDeep       t10           117\n",
      "0         Mozambique2018-SeekDeep      t100           124\n",
      "0         Mozambique2018-SeekDeep       t11           120\n",
      "0         Mozambique2018-SeekDeep       t12           119\n",
      "..                            ...       ...           ...\n",
      "0         Mozambique2018-SeekDeep       t96           119\n",
      "0         Mozambique2018-SeekDeep       t97           122\n",
      "0         Mozambique2018-SeekDeep       t98           122\n",
      "0         Mozambique2018-SeekDeep       t99           120\n",
      "0         Mozambique2018-SeekDeep       t76            32\n",
      "\n",
      "[100 rows x 3 columns]\n"
     ]
    }
   ],
   "source": [
    "# get counts of the samples per target\n",
    "counts_df = PMOExtractor.count_samples_per_target(pmo)\n",
    "\n",
    "print(counts_df)"
   ]
  }
 ],
 "metadata": {
  "kernelspec": {
   "display_name": "Python 3 (ipykernel)",
   "language": "python",
   "name": "python3"
  },
  "language_info": {
   "codemirror_mode": {
    "name": "ipython",
    "version": 3
   },
   "file_extension": ".py",
   "mimetype": "text/x-python",
   "name": "python",
   "nbconvert_exporter": "python",
   "pygments_lexer": "ipython3",
   "version": "3.12.7"
  }
 },
 "nbformat": 4,
 "nbformat_minor": 5
}
