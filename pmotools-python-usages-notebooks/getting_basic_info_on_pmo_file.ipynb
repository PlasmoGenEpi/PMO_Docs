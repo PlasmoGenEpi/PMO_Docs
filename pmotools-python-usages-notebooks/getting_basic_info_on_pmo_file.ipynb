{
 "cells": [
  {
   "cell_type": "markdown",
   "id": "76464965-f574-4704-98cb-d70c005469c3",
   "metadata": {},
   "source": [
    "# Getting basic info out of a PMO"
   ]
  },
  {
   "cell_type": "code",
   "execution_count": 1,
   "id": "55c17cb9-6140-4969-8538-c692c3af299d",
   "metadata": {},
   "outputs": [],
   "source": [
    "from pmotools.pmo_utils.PMOExtractor import PMOExtractor\n",
    "from pmotools.pmo_utils.PMOReader import PMOReader\n",
    "from pmotools.utils.small_utils import Utils\n",
    "\n",
    "\n",
    "pmo = PMOReader.read_in_pmo(\"../format/moz2018_PMO.json.gz\")\n"
   ]
  },
  {
   "cell_type": "markdown",
   "id": "1bb65112-69c0-4ad0-be3b-a6f6de5b6a31",
   "metadata": {},
   "source": [
    "## Getting sample counts per target"
   ]
  },
  {
   "cell_type": "code",
   "execution_count": 5,
   "id": "18498680-f4e9-4bbc-ad88-0498adc53f36",
   "metadata": {},
   "outputs": [
    {
     "name": "stdout",
     "output_type": "stream",
     "text": [
      "   tar_amp_bioinformatics_info_id target_id sample_number\n",
      "0         Mozambique2018-SeekDeep        t1           119\n",
      "0         Mozambique2018-SeekDeep       t10           117\n",
      "0         Mozambique2018-SeekDeep      t100           124\n",
      "0         Mozambique2018-SeekDeep       t11           120\n",
      "0         Mozambique2018-SeekDeep       t12           119\n",
      "..                            ...       ...           ...\n",
      "0         Mozambique2018-SeekDeep       t96           119\n",
      "0         Mozambique2018-SeekDeep       t97           122\n",
      "0         Mozambique2018-SeekDeep       t98           122\n",
      "0         Mozambique2018-SeekDeep       t99           120\n",
      "0         Mozambique2018-SeekDeep       t76            32\n",
      "\n",
      "[100 rows x 3 columns]\n"
     ]
    }
   ],
   "source": [
    "# get counts of the samples per target\n",
    "counts_df = PMOExtractor.count_samples_per_target(pmo)\n",
    "\n",
    "print(counts_df)"
   ]
  },
  {
   "cell_type": "markdown",
   "id": "e7736eb1-3f95-4c77-8fd9-d99ed702201a",
   "metadata": {},
   "source": [
    "## Getting target counts per sample"
   ]
  },
  {
   "cell_type": "code",
   "execution_count": 3,
   "id": "877186fd-72d5-4dc8-8f28-6e4c8727b0ee",
   "metadata": {},
   "outputs": [
    {
     "name": "stdout",
     "output_type": "stream",
     "text": [
      "   tar_amp_bioinformatics_info_id experiment_sample_id target_number\n",
      "0         Mozambique2018-SeekDeep           8025874217            99\n",
      "0         Mozambique2018-SeekDeep           8025874231            99\n",
      "0         Mozambique2018-SeekDeep           8025874234            97\n",
      "0         Mozambique2018-SeekDeep           8025874237            99\n",
      "0         Mozambique2018-SeekDeep           8025874250            98\n",
      "..                            ...                  ...           ...\n",
      "0         Mozambique2018-SeekDeep           SS1-10K-C1            98\n",
      "0         Mozambique2018-SeekDeep           SS2-10K-C1            98\n",
      "0         Mozambique2018-SeekDeep           SS3-10K-C1            98\n",
      "0         Mozambique2018-SeekDeep           SS4-10K-C1            99\n",
      "0         Mozambique2018-SeekDeep           SS5-10K-C1            97\n",
      "\n",
      "[124 rows x 3 columns]\n"
     ]
    }
   ],
   "source": [
    "# get counts of the samples per target\n",
    "target_counts_df = PMOExtractor.count_targets_per_sample(pmo)\n",
    "print(target_counts_df)"
   ]
  },
  {
   "cell_type": "code",
   "execution_count": null,
   "id": "b6e4bfec-a358-4f55-99e1-41f8dae4395a",
   "metadata": {},
   "outputs": [],
   "source": []
  }
 ],
 "metadata": {
  "kernelspec": {
   "display_name": "Python 3 (ipykernel)",
   "language": "python",
   "name": "python3"
  },
  "language_info": {
   "codemirror_mode": {
    "name": "ipython",
    "version": 3
   },
   "file_extension": ".py",
   "mimetype": "text/x-python",
   "name": "python",
   "nbconvert_exporter": "python",
   "pygments_lexer": "ipython3",
   "version": "3.12.7"
  }
 },
 "nbformat": 4,
 "nbformat_minor": 5
}
